{
 "cells": [
  {
   "cell_type": "markdown",
   "metadata": {},
   "source": [
    "# Numpy"
   ]
  },
  {
   "cell_type": "markdown",
   "metadata": {},
   "source": [
    "## Лабораторная работа №1"
   ]
  },
  {
   "cell_type": "markdown",
   "metadata": {},
   "source": [
    "1. Файл `minutes_n_ingredients.csv` содержит информацию об идентификаторе рецепта, времени его выполнения в минутах и количестве необходимых ингредиентов. Считайте данные из этого файла в виде массива `numpy` типа `int32`, используя `np.loadtxt`. Выведите на экран первые 5 строк массива."
   ]
  },
  {
   "cell_type": "code",
   "execution_count": 68,
   "metadata": {},
   "outputs": [
    {
     "name": "stdout",
     "output_type": "stream",
     "text": [
      "['id' 'minutes' 'n_ingredients']\n",
      "[[127244     60     16]\n",
      " [ 23891     25      7]\n",
      " [ 94746     10      6]\n",
      " [ 67660      5      6]\n",
      " [157911     60     14]]\n"
     ]
    }
   ],
   "source": [
    "import numpy as np\n",
    "data_names = np.loadtxt('minutes_n_ingredients.csv', dtype = 'str', delimiter = ',', max_rows = 1) #создание массива названий столбцов датасета\n",
    "data = np.loadtxt('minutes_n_ingredients.csv', dtype = 'int32', delimiter = ',', skiprows = 1) #создание массива без первой строки - названий столбцов\n",
    "print(data_names, data[:5,:], sep = '\\n') #вывод названий столбцов и массива данных"
   ]
  },
  {
   "cell_type": "markdown",
   "metadata": {},
   "source": [
    "2. Вычислите среднее значение, минимум, максимум и медиану по каждому из столбцов, кроме первого."
   ]
  },
  {
   "cell_type": "code",
   "execution_count": 69,
   "metadata": {},
   "outputs": [
    {
     "name": "stdout",
     "output_type": "stream",
     "text": [
      "средние значения (минуты, количество ингредиентов)\n",
      "[2.16010017e+04 9.05528000e+00]\n",
      "минимальные значения (минуты, количество ингредиентов)\n",
      "[0 1]\n",
      "максимальные значения (минуты, количество ингредиентов)\n",
      "[2147483647         39]\n",
      "медианные значения (минуты, количество ингредиентов)\n",
      "[40.  9.]\n"
     ]
    }
   ],
   "source": [
    "mean_data = data[:,1::].mean(0) #вычисление средних значений 1 и 2 столбца\n",
    "min_data = data[:,1::].min(0) #вычисление минимальных значений 1 и 2 столбца\n",
    "max_data = data[:,1::].max(0) #вычисление максимальных значений 1 и 2 столбца\n",
    "median_data = np.median(data[:,1::],0) #вычисление медианных значений 1 и 2 столбца\n",
    "print('средние значения (минуты, количество ингредиентов)', mean_data,'минимальные значения (минуты, количество ингредиентов)', min_data,'максимальные значения (минуты, количество ингредиентов)', max_data,'медианные значения (минуты, количество ингредиентов)', median_data, sep = '\\n') #вывод искомых значений"
   ]
  },
  {
   "cell_type": "markdown",
   "metadata": {},
   "source": [
    "3. Ограничьте сверху значения продолжительности выполнения рецепта значением квантиля $q_{0.75}$. "
   ]
  },
  {
   "cell_type": "code",
   "execution_count": 70,
   "metadata": {},
   "outputs": [
    {
     "name": "stdout",
     "output_type": "stream",
     "text": [
      "[[127244     60     16]\n",
      " [ 23891     25      7]\n",
      " [ 94746     10      6]\n",
      " ...\n",
      " [498432     65     15]\n",
      " [370915      5      4]\n",
      " [ 81993     65     14]]\n"
     ]
    }
   ],
   "source": [
    "upper_quartile_minutes = np.quantile(data[:,1],0.75) # вычисление верхнего квартиля\n",
    "data[(data[:,1]>upper_quartile_minutes),1] = upper_quartile_minutes # ограничение значений верхним квартилем\n",
    "print(data)"
   ]
  },
  {
   "cell_type": "markdown",
   "metadata": {},
   "source": [
    "4. Посчитайте, для скольких рецептов указана продолжительность, равная нулю. Замените для таких строк значение в данном столбце на 1."
   ]
  },
  {
   "cell_type": "code",
   "execution_count": 73,
   "metadata": {},
   "outputs": [
    {
     "name": "stdout",
     "output_type": "stream",
     "text": [
      "рецептов с нулевой продолжительностью:\n",
      "0\n",
      "скорректированный датасет\n",
      "[[127244     60     16]\n",
      " [ 23891     25      7]\n",
      " [ 94746     10      6]\n",
      " ...\n",
      " [498432     65     15]\n",
      " [370915      5      4]\n",
      " [ 81993     65     14]]\n"
     ]
    }
   ],
   "source": [
    "zero_minutes_count = np.sum(data[:,1]==0)\n",
    "data[data[:,1]==0, 1] = 1\n",
    "print('рецептов с нулевой продолжительностью:', zero_minutes_count,'скорректированный датасет', data, sep = '\\n')"
   ]
  },
  {
   "cell_type": "markdown",
   "metadata": {},
   "source": [
    "5. Посчитайте, сколько уникальных рецептов находится в датасете."
   ]
  },
  {
   "cell_type": "code",
   "execution_count": 75,
   "metadata": {},
   "outputs": [
    {
     "name": "stdout",
     "output_type": "stream",
     "text": [
      "уникальных рецептов: 1135 \n",
      "\n"
     ]
    }
   ],
   "source": [
    "unique_recipes_count = np.unique(data[:,1:], axis = 0).shape[0] #подсчет количества уникальных рецептов без учета 1 столбца (id)\n",
    "print('уникальных рецептов:', unique_recipes_count, '\\n')"
   ]
  },
  {
   "cell_type": "markdown",
   "metadata": {},
   "source": [
    "6. Сколько и каких различных значений кол-ва ингредиентов присутвует в рецептах из датасета?"
   ]
  },
  {
   "cell_type": "code",
   "execution_count": 78,
   "metadata": {},
   "outputs": [
    {
     "name": "stdout",
     "output_type": "stream",
     "text": [
      "значение кол-ва ингредиентов, количество таких рецептов\n",
      "[[    1    13]\n",
      " [    2   926]\n",
      " [    3  2895]\n",
      " [    4  5515]\n",
      " [    5  7913]\n",
      " [    6  9376]\n",
      " [    7 10628]\n",
      " [    8 10951]\n",
      " [    9 10585]\n",
      " [   10  9591]\n",
      " [   11  8297]\n",
      " [   12  6605]\n",
      " [   13  4997]\n",
      " [   14  3663]\n",
      " [   15  2595]\n",
      " [   16  1767]\n",
      " [   17  1246]\n",
      " [   18   790]\n",
      " [   19   573]\n",
      " [   20   376]\n",
      " [   21   217]\n",
      " [   22   161]\n",
      " [   23   105]\n",
      " [   24    69]\n",
      " [   25    50]\n",
      " [   26    28]\n",
      " [   27    16]\n",
      " [   28    16]\n",
      " [   29    12]\n",
      " [   30    12]\n",
      " [   31     3]\n",
      " [   32     1]\n",
      " [   33     2]\n",
      " [   34     1]\n",
      " [   35     3]\n",
      " [   37     1]\n",
      " [   39     1]]\n"
     ]
    }
   ],
   "source": [
    "ingredients, ingredients_count = (np.unique(data[:,2], return_counts = True))\n",
    "print('значение кол-ва ингредиентов, количество таких рецептов', np.hstack([np.reshape(ingredients, (ingredients.shape[0], 1)),\n",
    "           np.reshape(ingredients_count,(ingredients_count.shape[0], 1))]), sep = '\\n')"
   ]
  },
  {
   "cell_type": "markdown",
   "metadata": {},
   "source": [
    "7. Создайте версию массива, содержащую информацию только о рецептах, состоящих не более чем из 5 ингредиентов."
   ]
  },
  {
   "cell_type": "code",
   "execution_count": 79,
   "metadata": {},
   "outputs": [
    {
     "name": "stdout",
     "output_type": "stream",
     "text": [
      "рецепты, состоящие не более чем из 5 ингредиентов\n",
      "[[446597     15      5]\n",
      " [204134      5      3]\n",
      " [ 25623      6      4]\n",
      " ...\n",
      " [ 52088     60      5]\n",
      " [128811     15      4]\n",
      " [370915      5      4]]\n"
     ]
    }
   ],
   "source": [
    "max5_ingredients_data = data[data[:,2]<=5] # запись в новый массив данных только о рецептах, в которых <= 5 ингредиентов \n",
    "print('рецепты, состоящие не более чем из 5 ингредиентов', max5_ingredients_data, sep = '\\n')"
   ]
  },
  {
   "cell_type": "markdown",
   "metadata": {},
   "source": [
    "8. Для каждого рецепта посчитайте, сколько в среднем ингредиентов приходится на одну минуту рецепта. Найдите максимальное значение этой величины для всего датасета"
   ]
  },
  {
   "cell_type": "code",
   "execution_count": 80,
   "metadata": {},
   "outputs": [
    {
     "name": "stdout",
     "output_type": "stream",
     "text": [
      "максимальное среднее значение ингредиентов в минуту\n",
      "24.0\n"
     ]
    }
   ],
   "source": [
    "mean_inredients = data[:,2]/data[:,1]\n",
    "print('максимальное среднее значение ингредиентов в минуту', mean_inredients.max(0), sep = '\\n')"
   ]
  },
  {
   "cell_type": "markdown",
   "metadata": {},
   "source": [
    "9. Вычислите среднее количество ингредиентов для топ-100 рецептов с наибольшей продолжительностью"
   ]
  },
  {
   "cell_type": "code",
   "execution_count": 81,
   "metadata": {},
   "outputs": [
    {
     "name": "stdout",
     "output_type": "stream",
     "text": [
      "среднее количество ингредиентов для топ-100 рецептов с наибольшей продолжительностью\n",
      "9.96\n"
     ]
    }
   ],
   "source": [
    "data_sorted = data[np.argsort(data[:,1])[::-1]] # создание массива с отсортированным по продолжительности датасетом\n",
    "print('среднее количество ингредиентов для топ-100 рецептов с наибольшей продолжительностью', data_sorted[:100,2].mean(0), sep = '\\n') # поиск среднего количества ингредиентов среди первых ста рецептов в отсортированном датасете"
   ]
  },
  {
   "cell_type": "markdown",
   "metadata": {},
   "source": [
    "10. Выберите случайным образом и выведите информацию о 10 различных рецептах"
   ]
  },
  {
   "cell_type": "code",
   "execution_count": 82,
   "metadata": {},
   "outputs": [
    {
     "name": "stdout",
     "output_type": "stream",
     "text": [
      "10 случайных различных рецепта\n",
      "[[309231     50     15]\n",
      " [288018     35     10]\n",
      " [487827     10      9]\n",
      " [315326     20     12]\n",
      " [331842     65     12]\n",
      " [157562     48      6]\n",
      " [ 93690     10      6]\n",
      " [172474     25      4]\n",
      " [104992     65     14]\n",
      " [424931     20      7]]\n"
     ]
    }
   ],
   "source": [
    "random_10recipes_data = data[np.random.choice(data.shape[0], 10, replace = False)]\n",
    "print('10 случайных различных рецепта', random_10recipes_data, sep = '\\n')"
   ]
  },
  {
   "cell_type": "markdown",
   "metadata": {},
   "source": [
    "11. Выведите процент рецептов, кол-во ингредиентов в которых меньше среднего."
   ]
  },
  {
   "cell_type": "code",
   "execution_count": 84,
   "metadata": {},
   "outputs": [
    {
     "name": "stdout",
     "output_type": "stream",
     "text": [
      "процент рецептов, кол-во ингредиентов в которых меньше среднего\n",
      "58.802\n"
     ]
    }
   ],
   "source": [
    "print('процент рецептов, кол-во ингредиентов в которых меньше среднего', np.sum(data[:,2]<data[:,2].mean(0))*100/data.shape[0], sep = '\\n')"
   ]
  },
  {
   "cell_type": "markdown",
   "metadata": {},
   "source": [
    "12. Назовем \"простым\" такой рецепт, длительность выполнения которого не больше 20 минут и кол-во ингредиентов в котором не больше 5. Создайте версию датасета с дополнительным столбцом, значениями которого являются 1, если рецепт простой, и 0 в противном случае."
   ]
  },
  {
   "cell_type": "code",
   "execution_count": 85,
   "metadata": {},
   "outputs": [
    {
     "name": "stdout",
     "output_type": "stream",
     "text": [
      "[[127244     60     16      0]\n",
      " [ 23891     25      7      0]\n",
      " [ 94746     10      6      0]\n",
      " ...\n",
      " [498432     65     15      0]\n",
      " [370915      5      4      1]\n",
      " [ 81993     65     14      0]]\n"
     ]
    }
   ],
   "source": [
    "easy_recipes_flag = (data[:,1]<=20).reshape(data.shape[0],1)*(data[:,2]<=5).reshape(data.shape[0],1)\n",
    "easy_recipes_data = np.hstack((data,easy_recipes_flag))\n",
    "print(easy_recipes_data)"
   ]
  },
  {
   "cell_type": "markdown",
   "metadata": {},
   "source": [
    "13. Выведите процент \"простых\" рецептов в датасете"
   ]
  },
  {
   "cell_type": "code",
   "execution_count": 86,
   "metadata": {},
   "outputs": [
    {
     "name": "stdout",
     "output_type": "stream",
     "text": [
      "процент \"простых\" рецептов в датасете\n",
      "9.552\n"
     ]
    }
   ],
   "source": [
    "print('процент \"простых\" рецептов в датасете', np.sum(easy_recipes_flag)*100/data.shape[0], sep = '\\n')"
   ]
  },
  {
   "cell_type": "markdown",
   "metadata": {},
   "source": [
    "14. Разделим рецепты на группы по следующему правилу. Назовем рецепты короткими, если их продолжительность составляет менее 10 минут; стандартными, если их продолжительность составляет более 10, но менее 20 минут; и длинными, если их продолжительность составляет не менее 20 минут. Создайте трехмерный массив, где нулевая ось отвечает за номер группы (короткий, стандартный или длинный рецепт), первая ось - за сам рецепт и вторая ось - за характеристики рецепта. Выберите максимальное количество рецептов из каждой группы таким образом, чтобы было возможно сформировать трехмерный массив. Выведите форму полученного массива."
   ]
  },
  {
   "cell_type": "code",
   "execution_count": 87,
   "metadata": {},
   "outputs": [
    {
     "name": "stdout",
     "output_type": "stream",
     "text": [
      "форма 3-мерного массива\n",
      "(3, 7588, 3)\n"
     ]
    }
   ],
   "source": [
    "min_time_group_count = np.min(np.array([data[(data[:,1]<10)].shape[0], data[((data[:,1]>=10)*(data[:,1]<20))].shape[0], data[(data[:,1]>=20)].shape[0]]))\n",
    "time_group_data = np.array([data[data[:,1]<10][:min_time_group_count,:], data[(data[:,1]>=10)*(data[:,1]<20)][:min_time_group_count,:], data[(data[:,1]>=20)][:min_time_group_count,:]])\n",
    "print('форма 3-мерного массива', time_group_data.shape, sep = '\\n')"
   ]
  },
  {
   "cell_type": "code",
   "execution_count": null,
   "metadata": {},
   "outputs": [],
   "source": []
  }
 ],
 "metadata": {
  "kernelspec": {
   "display_name": "Python 3 (ipykernel)",
   "language": "python",
   "name": "python3"
  },
  "language_info": {
   "codemirror_mode": {
    "name": "ipython",
    "version": 3
   },
   "file_extension": ".py",
   "mimetype": "text/x-python",
   "name": "python",
   "nbconvert_exporter": "python",
   "pygments_lexer": "ipython3",
   "version": "3.9.13"
  }
 },
 "nbformat": 4,
 "nbformat_minor": 4
}
